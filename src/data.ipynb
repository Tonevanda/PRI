{
 "cells": [
  {
   "cell_type": "code",
   "execution_count": 1,
   "metadata": {},
   "outputs": [],
   "source": [
    "import pandas as pd"
   ]
  },
  {
   "cell_type": "code",
   "execution_count": 11,
   "metadata": {},
   "outputs": [
    {
     "name": "stdout",
     "output_type": "stream",
     "text": [
      "   Episode                                              Title  Season               Arc            Saga    Air Date  Opening    Ending                                       Long Summary\n",
      "0        1  I'm Luffy! The Man Who Will Become the Pirate ...       1  Romance Dawn Arc  East Blue Saga  1999-10-20  We Are!  Memories  Luffy is cast at sea in a barrel. Sailors on a...\n",
      "1        2  The Great Swordsman Appears! Pirate Hunter Ror...       1  Romance Dawn Arc  East Blue Saga  1999-11-17  We Are!  Memories  Luffy and Koby arrive at Shells Town, a town w...\n",
      "2        3  Morgan vs. Luffy! Who's This Mysterious Beauti...       1  Romance Dawn Arc  East Blue Saga  1999-11-24  We Are!  Memories  Luffy returns the katana to Zoro, who uses the...\n",
      "3        4       Luffy's Past! The Red-Haired Shanks Appears!       1   Orange Town Arc  East Blue Saga   1999-12-8  We Are!  Memories  The burglar girl's dinghy is discovered by thr...\n",
      "4        5  Fear, Mysterious Power! Pirate Clown Captain B...       1   Orange Town Arc  East Blue Saga  1999-12-15  We Are!  Memories  The girl introduces herself as Nami, a thief t...\n"
     ]
    }
   ],
   "source": [
    "df = pd.read_csv('onepiece_episodes.csv')\n",
    "\n",
    "pd.set_option('display.max_columns', None)  # Show all columns\n",
    "pd.set_option('display.width', 1000)  \n",
    "\n",
    "print(df.head())"
   ]
  }
 ],
 "metadata": {
  "kernelspec": {
   "display_name": "base",
   "language": "python",
   "name": "python3"
  },
  "language_info": {
   "codemirror_mode": {
    "name": "ipython",
    "version": 3
   },
   "file_extension": ".py",
   "mimetype": "text/x-python",
   "name": "python",
   "nbconvert_exporter": "python",
   "pygments_lexer": "ipython3",
   "version": "3.11.7"
  }
 },
 "nbformat": 4,
 "nbformat_minor": 2
}
